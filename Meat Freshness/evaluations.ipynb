{
 "cells": [
  {
   "cell_type": "code",
   "execution_count": 1,
   "metadata": {},
   "outputs": [],
   "source": [
    "import tensorflow as tf\n",
    "from tensorflow.keras import layers, models\n",
    "\n",
    "model = tf.keras.models.load_model('./model/meat-model v3.h5')\n"
   ]
  },
  {
   "cell_type": "code",
   "execution_count": 2,
   "metadata": {},
   "outputs": [
    {
     "name": "stdout",
     "output_type": "stream",
     "text": [
      "Found 411 images belonging to 3 classes.\n"
     ]
    }
   ],
   "source": [
    "from keras.preprocessing.image import ImageDataGenerator\n",
    "testDatagen = ImageDataGenerator(rescale=1.0/255)\n",
    "\n",
    "testData = testDatagen.flow_from_directory(\n",
    "    directory='./Meat 2/test',\n",
    "    class_mode='sparse',\n",
    "    target_size=(224,224),\n",
    "    batch_size=64\n",
    ")"
   ]
  },
  {
   "cell_type": "code",
   "execution_count": 3,
   "metadata": {},
   "outputs": [
    {
     "data": {
      "text/plain": [
       "array([0, 0, 0, 0, 0, 0, 0, 0, 0, 0, 0, 0, 0, 0, 0, 0, 0, 0, 0, 0, 0, 0,\n",
       "       0, 0, 0, 0, 0, 0, 0, 0, 0, 0, 0, 0, 0, 0, 0, 0, 0, 0, 0, 0, 0, 0,\n",
       "       0, 0, 0, 0, 0, 0, 0, 0, 0, 0, 0, 0, 0, 0, 0, 0, 0, 0, 0, 0, 0, 0,\n",
       "       0, 0, 0, 0, 0, 0, 0, 0, 0, 0, 0, 0, 0, 0, 0, 0, 0, 0, 0, 0, 0, 0,\n",
       "       0, 0, 0, 0, 0, 0, 0, 0, 0, 0, 0, 0, 0, 0, 0, 0, 0, 0, 0, 0, 0, 0,\n",
       "       0, 0, 0, 0, 0, 0, 0, 0, 0, 0, 0, 0, 0, 0, 0, 0, 0, 0, 0, 0, 0, 0,\n",
       "       0, 0, 0, 0, 0, 0, 0, 0, 0, 0, 0, 0, 0, 0, 0, 0, 0, 0, 0, 0, 0, 0,\n",
       "       0, 0, 0, 0, 0, 0, 0, 0, 0, 0, 0, 0, 0, 0, 0, 0, 0, 0, 0, 0, 0, 0,\n",
       "       0, 0, 0, 0, 0, 0, 0, 0, 0, 0, 0, 0, 0, 0, 0, 1, 1, 1, 1, 1, 1, 1,\n",
       "       1, 1, 1, 1, 1, 1, 1, 1, 1, 1, 1, 1, 1, 1, 1, 1, 1, 1, 1, 1, 1, 1,\n",
       "       1, 1, 1, 1, 1, 1, 1, 1, 1, 1, 1, 1, 1, 1, 1, 1, 1, 1, 1, 1, 1, 1,\n",
       "       1, 1, 1, 1, 1, 1, 1, 1, 1, 1, 1, 1, 1, 1, 1, 1, 1, 2, 2, 2, 2, 2,\n",
       "       2, 2, 2, 2, 2, 2, 2, 2, 2, 2, 2, 2, 2, 2, 2, 2, 2, 2, 2, 2, 2, 2,\n",
       "       2, 2, 2, 2, 2, 2, 2, 2, 2, 2, 2, 2, 2, 2, 2, 2, 2, 2, 2, 2, 2, 2,\n",
       "       2, 2, 2, 2, 2, 2, 2, 2, 2, 2, 2, 2, 2, 2, 2, 2, 2, 2, 2, 2, 2, 2,\n",
       "       2, 2, 2, 2, 2, 2, 2, 2, 2, 2, 2, 2, 2, 2, 2, 2, 2, 2, 2, 2, 2, 2,\n",
       "       2, 2, 2, 2, 2, 2, 2, 2, 2, 2, 2, 2, 2, 2, 2, 2, 2, 2, 2, 2, 2, 2,\n",
       "       2, 2, 2, 2, 2, 2, 2, 2, 2, 2, 2, 2, 2, 2, 2, 2, 2, 2, 2, 2, 2, 2,\n",
       "       2, 2, 2, 2, 2, 2, 2, 2, 2, 2, 2, 2, 2, 2, 2])"
      ]
     },
     "execution_count": 3,
     "metadata": {},
     "output_type": "execute_result"
    }
   ],
   "source": [
    "test_labels=testData.classes\n",
    "test_labels"
   ]
  },
  {
   "cell_type": "code",
   "execution_count": 4,
   "metadata": {},
   "outputs": [
    {
     "name": "stdout",
     "output_type": "stream",
     "text": [
      "7/7 [==============================] - 180s 23s/step\n"
     ]
    }
   ],
   "source": [
    "y_pred = model.predict(testData)"
   ]
  },
  {
   "cell_type": "code",
   "execution_count": 5,
   "metadata": {},
   "outputs": [
    {
     "data": {
      "text/plain": [
       "array([2, 1, 2, 0, 0, 1, 2, 2, 2, 2, 0, 2, 1, 2, 2, 0, 1, 0, 0, 2, 2, 2,\n",
       "       2, 0, 2, 1, 2, 2, 2, 0, 1, 2, 0, 2, 2, 0, 0, 2, 0, 0, 2, 2, 2, 0,\n",
       "       0, 0, 2, 0, 2, 0, 2, 2, 2, 0, 2, 0, 2, 0, 2, 2, 2, 0, 0, 0, 0, 0,\n",
       "       2, 2, 0, 2, 2, 2, 0, 2, 0, 0, 1, 0, 0, 0, 2, 0, 2, 0, 2, 0, 1, 1,\n",
       "       2, 2, 0, 0, 0, 1, 0, 0, 2, 0, 0, 0, 0, 0, 1, 2, 2, 1, 1, 0, 0, 2,\n",
       "       0, 0, 0, 0, 2, 0, 0, 0, 2, 0, 2, 2, 2, 1, 2, 2, 0, 0, 1, 2, 2, 2,\n",
       "       2, 1, 2, 2, 2, 2, 0, 0, 1, 2, 2, 0, 2, 2, 0, 2, 0, 0, 1, 2, 1, 1,\n",
       "       0, 0, 0, 2, 2, 1, 2, 0, 2, 2, 0, 1, 0, 1, 1, 0, 0, 1, 0, 0, 0, 1,\n",
       "       2, 0, 0, 2, 1, 0, 2, 0, 2, 0, 2, 1, 0, 0, 1, 0, 0, 2, 2, 0, 2, 0,\n",
       "       2, 1, 0, 2, 0, 2, 0, 0, 0, 2, 0, 2, 2, 1, 0, 2, 2, 0, 2, 0, 2, 0,\n",
       "       0, 2, 1, 2, 2, 1, 0, 2, 2, 0, 2, 0, 2, 0, 1, 2, 0, 0, 2, 0, 2, 0,\n",
       "       1, 0, 0, 0, 0, 2, 0, 1, 2, 1, 0, 0, 2, 2, 0, 1, 1, 1, 0, 2, 0, 0,\n",
       "       0, 1, 0, 0, 2, 0, 0, 0, 0, 0, 2, 0, 0, 2, 2, 0, 2, 0, 0, 2, 1, 2,\n",
       "       0, 2, 2, 1, 2, 2, 0, 0, 0, 2, 2, 0, 0, 1, 2, 2, 2, 2, 1, 0, 0, 1,\n",
       "       2, 0, 1, 2, 0, 0, 0, 0, 1, 2, 0, 0, 1, 2, 0, 0, 0, 0, 2, 1, 0, 1,\n",
       "       0, 0, 0, 1, 0, 2, 1, 2, 0, 2, 0, 0, 1, 2, 0, 0, 0, 2, 0, 0, 2, 2,\n",
       "       1, 1, 2, 2, 1, 0, 0, 0, 1, 0, 0, 2, 1, 0, 0, 1, 2, 0, 0, 0, 2, 0,\n",
       "       2, 0, 0, 1, 0, 1, 0, 0, 2, 0, 1, 0, 0, 0, 0, 1, 1, 2, 2, 2, 2, 0,\n",
       "       0, 0, 0, 1, 1, 2, 0, 0, 0, 2, 0, 0, 2, 2, 1], dtype=int64)"
      ]
     },
     "execution_count": 5,
     "metadata": {},
     "output_type": "execute_result"
    }
   ],
   "source": [
    "import numpy as np\n",
    "\n",
    "y_pred_classes = np.argmax(y_pred, axis=1)\n",
    "y_pred_classes"
   ]
  },
  {
   "cell_type": "code",
   "execution_count": 6,
   "metadata": {},
   "outputs": [],
   "source": [
    "from sklearn.metrics import classification_report, confusion_matrix\n",
    "\n",
    "# Create a classification report\n",
    "class_report = classification_report(test_labels, y_pred_classes)\n",
    "\n",
    "# Create a confusion matrix\n",
    "confusion_mtx = confusion_matrix(test_labels, y_pred_classes)\n"
   ]
  },
  {
   "cell_type": "code",
   "execution_count": 7,
   "metadata": {},
   "outputs": [
    {
     "name": "stdout",
     "output_type": "stream",
     "text": [
      "Classification Report:\n",
      "               precision    recall  f1-score   support\n",
      "\n",
      "           0       0.43      0.43      0.43       191\n",
      "           1       0.15      0.15      0.15        68\n",
      "           2       0.30      0.30      0.30       152\n",
      "\n",
      "    accuracy                           0.33       411\n",
      "   macro avg       0.29      0.29      0.29       411\n",
      "weighted avg       0.33      0.33      0.33       411\n",
      "\n"
     ]
    }
   ],
   "source": [
    "print(\"Classification Report:\\n\", class_report)"
   ]
  },
  {
   "cell_type": "code",
   "execution_count": 8,
   "metadata": {},
   "outputs": [
    {
     "data": {
      "text/plain": [
       "Text(50.722222222222214, 0.5, 'Truth')"
      ]
     },
     "execution_count": 8,
     "metadata": {},
     "output_type": "execute_result"
    },
    {
     "data": {
      "image/png": "[encoded data removed]",
      "text/plain": [
       "<Figure size 640x480 with 2 Axes>"
      ]
     },
     "metadata": {},
     "output_type": "display_data"
    }
   ],
   "source": [
    "#adding graphical content\n",
    "import seaborn as sn\n",
    "import matplotlib.pyplot as plt\n",
    "sn.heatmap(confusion_mtx,annot=True)\n",
    "plt.xlabel('Predicted')\n",
    "plt.ylabel('Truth')"
   ]
  },
  {
   "cell_type": "code",
   "execution_count": null,
   "metadata": {},
   "outputs": [],
   "source": []
  }
 ],
 "metadata": {
  "kernelspec": {
   "display_name": "base",
   "language": "python",
   "name": "python3"
  },
  "language_info": {
   "codemirror_mode": {
    "name": "ipython",
    "version": 3
   },
   "file_extension": ".py",
   "mimetype": "text/x-python",
   "name": "python",
   "nbconvert_exporter": "python",
   "pygments_lexer": "ipython3",
   "version": "3.9.13"
  },
  "orig_nbformat": 4
 },
 "nbformat": 4,
 "nbformat_minor": 2
}
