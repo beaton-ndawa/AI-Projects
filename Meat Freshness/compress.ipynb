{
 "cells": [
  {
   "cell_type": "code",
   "execution_count": 15,
   "metadata": {},
   "outputs": [],
   "source": [
    "import os\n",
    "import PIL\n",
    "import shutil"
   ]
  },
  {
   "cell_type": "code",
   "execution_count": 16,
   "metadata": {},
   "outputs": [],
   "source": [
    "inputDirectory='./Dataset'\n",
    "outputDirectory='./Compressed'"
   ]
  },
  {
   "cell_type": "code",
   "execution_count": 11,
   "metadata": {},
   "outputs": [
    {
     "data": {
      "text/plain": [
       "['Chambo', 'Utaka', 'Ndunduma', 'Micheni', 'Makakana', 'Sawasawa']"
      ]
     },
     "execution_count": 11,
     "metadata": {},
     "output_type": "execute_result"
    }
   ],
   "source": [
    "meatt['Fresh', 'Half Fresh', 'Spoiled']\n",
    "fish"
   ]
  },
  {
   "cell_type": "code",
   "execution_count": 13,
   "metadata": {},
   "outputs": [
    {
     "data": {
      "text/plain": [
       "'IMG_20230815_133332.jpg'"
      ]
     },
     "execution_count": 13,
     "metadata": {},
     "output_type": "execute_result"
    }
   ],
   "source": [
    "os.listdir(os.path.join(inputDirectory,fish[5]))[0]"
   ]
  },
  {
   "cell_type": "code",
   "execution_count": 42,
   "metadata": {},
   "outputs": [],
   "source": [
    "\n",
    "# filename=os.listdir(os.path.join(inputDirectory,fish[0]))[3]\n",
    "# from PIL import Image\n",
    "# image = Image.open(os.path.join(inputDirectory,fish[0],filename))\n",
    "# image.save(os.path.join(outputDirectory,filename), optimize=True, quality=20)"
   ]
  },
  {
   "cell_type": "code",
   "execution_count": 14,
   "metadata": {},
   "outputs": [],
   "source": [
    "from PIL import Image\n",
    "for image_name in os.listdir(os.path.join(inputDirectory,fish[5])):\n",
    "    if not os.path.exists(os.path.join(outputDirectory,fish[5])):\n",
    "        os.mkdir(os.path.join(outputDirectory,fish[5]))\n",
    "        image = Image.open(os.path.join(inputDirectory,fish[5],image_name))\n",
    "        image.save(os.path.join(outputDirectory,fish[5],image_name), optimize=True, quality=20)\n",
    "    else:\n",
    "        image = Image.open(os.path.join(inputDirectory,fish[5],image_name))\n",
    "        image.save(os.path.join(outputDirectory,fish[5],image_name), optimize=True, quality=20)\n",
    "    "
   ]
  }
 ],
 "metadata": {
  "kernelspec": {
   "display_name": "base",
   "language": "python",
   "name": "python3"
  },
  "language_info": {
   "codemirror_mode": {
    "name": "ipython",
    "version": 3
   },
   "file_extension": ".py",
   "mimetype": "text/x-python",
   "name": "python",
   "nbconvert_exporter": "python",
   "pygments_lexer": "ipython3",
   "version": "3.9.13"
  },
  "orig_nbformat": 4
 },
 "nbformat": 4,
 "nbformat_minor": 2
}
