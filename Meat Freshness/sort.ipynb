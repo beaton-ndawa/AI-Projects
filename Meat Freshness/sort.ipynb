{
 "cells": [
  {
   "cell_type": "code",
   "execution_count": 1,
   "metadata": {},
   "outputs": [],
   "source": [
    "import random\n",
    "import pathlib\n",
    "import os\n",
    "import shutil\n",
    "import math"
   ]
  },
  {
   "cell_type": "code",
   "execution_count": 11,
   "metadata": {},
   "outputs": [],
   "source": [
    "\n",
    "category=['Fresh', 'Half Fresh', 'Spoiled']\n",
    "if not os.path.exists('./Meat 2/'):\n",
    "    for meat in category:\n",
    "        os.makedirs(os.path.join('./Meat 2/train/', meat))\n",
    "    for meat in category:\n",
    "        os.makedirs(os.path.join('./Meat 2/test/', meat))\n",
    "    for meat in category:\n",
    "        os.makedirs(os.path.join('./Meat 2/valid/', meat))\n",
    "else:\n",
    "    shutil.rmtree('./Meat 2')\n",
    "\n",
    "    for meat in category:\n",
    "        os.makedirs(os.path.join('./Meat 2/train/', meat))\n",
    "    for meat in category:\n",
    "        os.makedirs(os.path.join('./Meat 2/test/', meat))\n",
    "    for meat in category:\n",
    "        os.makedirs(os.path.join('./Meat 2/valid/', meat))\n",
    "    "
   ]
  },
  {
   "cell_type": "code",
   "execution_count": 14,
   "metadata": {},
   "outputs": [],
   "source": [
    "p=pathlib.Path('./Dataset')\n",
    "for meat in category:\n",
    "    for c in random.sample(list(p.glob(os.path.join(meat,'*'))), math.floor(len(list(p.glob(os.path.join(meat,'*')))) * 0.8)):\n",
    "        shutil.move(c, os.path.join('Meat 2/train',meat))\n",
    "    for c in random.sample(list(p.glob(os.path.join(meat,'*'))), math.floor(len(list(p.glob(os.path.join(meat,'*')))) * 0.5)):\n",
    "        shutil.move(c, os.path.join('Meat 2/test',meat))\n",
    "    for c in random.sample(list(p.glob(os.path.join(meat,'*'))), len(list(p.glob(os.path.join(meat,'*'))))):\n",
    "        shutil.move(c, os.path.join('Meat 2/valid',meat))\n",
    "    "
   ]
  }
 ],
 "metadata": {
  "kernelspec": {
   "display_name": "base",
   "language": "python",
   "name": "python3"
  },
  "language_info": {
   "codemirror_mode": {
    "name": "ipython",
    "version": 3
   },
   "file_extension": ".py",
   "mimetype": "text/x-python",
   "name": "python",
   "nbconvert_exporter": "python",
   "pygments_lexer": "ipython3",
   "version": "3.9.13"
  },
  "orig_nbformat": 4
 },
 "nbformat": 4,
 "nbformat_minor": 2
}
