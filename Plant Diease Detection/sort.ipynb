{
 "cells": [
  {
   "cell_type": "code",
   "execution_count": 1,
   "metadata": {},
   "outputs": [],
   "source": [
    "import random\n",
    "import pathlib\n",
    "import os\n",
    "import shutil\n",
    "import math"
   ]
  },
  {
   "cell_type": "code",
   "execution_count": 3,
   "metadata": {},
   "outputs": [
    {
     "name": "stdout",
     "output_type": "stream",
     "text": [
      "['Maize___Cercospora_leaf_spot Gray_leaf_spot', 'Maize___Common_rust_', 'Maize___healthy', 'Maize___Northern_Leaf_Blight', 'Potato___Early_blight', 'Potato___healthy', 'Potato___Late_blight', 'Tomato___Bacterial_spot', 'Tomato___Early_blight', 'Tomato___healthy', 'Tomato___Late_blight', 'Tomato___Leaf_Mold', 'Tomato___Septoria_leaf_spot', 'Tomato___Spider_mites Two-spotted_spider_mite', 'Tomato___Target_Spot', 'Tomato___Tomato_mosaic_virus', 'Tomato___Tomato_Yellow_Leaf_Curl_Virus']\n"
     ]
    }
   ],
   "source": [
    "# Specify the path of the directory you want to get the directory names from\n",
    "directory_path = \"Dataset\"\n",
    "\n",
    "# Use os.listdir() to get a list of all entries in the directory\n",
    "all_entries = os.listdir(directory_path)\n",
    "\n",
    "# Use a list comprehension to filter out only directories\n",
    "plants = [entry for entry in all_entries if os.path.isdir(os.path.join(directory_path, entry))]\n",
    "\n",
    "# Now 'directories' contains the names of all directories in the specified path\n",
    "print(plants)"
   ]
  },
  {
   "cell_type": "code",
   "execution_count": 5,
   "metadata": {},
   "outputs": [],
   "source": [
    "if not os.path.exists('./Sorted Dataset/Maize_healthy'):\n",
    "    for plant in plants:\n",
    "        os.makedirs(os.path.join('./Sorted Dataset/train/', plant))\n",
    "    for plant in plants:\n",
    "        os.makedirs(os.path.join('./Sorted Dataset/test/', plant))\n",
    "    for plant in plants:\n",
    "        os.makedirs(os.path.join('./Sorted Dataset/valid/', plant))\n",
    "else:\n",
    "    # shutil.rmtree('./Sorted Dataset')\n",
    "\n",
    "    # for plant in plants:\n",
    "    #     os.makedirs(os.path.join('./plant/train/', plant))\n",
    "    # for plant in plants:\n",
    "    #     os.makedirs(os.path.join('./plant/test/', plant))\n",
    "    # for plant in plants:\n",
    "    #     os.makedirs(os.path.join('./plant/valid/', plant))\n",
    "    "
   ]
  },
  {
   "cell_type": "code",
   "execution_count": 7,
   "metadata": {},
   "outputs": [],
   "source": [
    "p=pathlib.Path('./Dataset')\n",
    "for plant in plants:\n",
    "    for c in random.sample(list(p.glob(os.path.join(plant,'*'))), math.floor(len(list(p.glob(os.path.join(plant,'*')))) * 0.4)):\n",
    "        shutil.move(c, os.path.join('Sorted Dataset/train',plant))\n",
    "    for c in random.sample(list(p.glob(os.path.join(plant,'*'))), math.floor(len(list(p.glob(os.path.join(plant,'*')))) * 0.3)):\n",
    "        shutil.move(c, os.path.join('Sorted Dataset/test',plant))\n",
    "    for c in random.sample(list(p.glob(os.path.join(plant,'*'))), math.floor(len(list(p.glob(os.path.join(plant,'*')))) * 0.5)):\n",
    "        shutil.move(c, os.path.join('Sorted Dataset/valid',plant))\n",
    "    "
   ]
  }
 ],
 "metadata": {
  "kernelspec": {
   "display_name": "base",
   "language": "python",
   "name": "python3"
  },
  "language_info": {
   "codemirror_mode": {
    "name": "ipython",
    "version": 3
   },
   "file_extension": ".py",
   "mimetype": "text/x-python",
   "name": "python",
   "nbconvert_exporter": "python",
   "pygments_lexer": "ipython3",
   "version": "3.9.13"
  },
  "orig_nbformat": 4
 },
 "nbformat": 4,
 "nbformat_minor": 2
}
