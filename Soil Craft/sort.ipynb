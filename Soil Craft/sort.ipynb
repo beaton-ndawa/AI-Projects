{
 "cells": [
  {
   "cell_type": "code",
   "execution_count": 1,
   "metadata": {},
   "outputs": [],
   "source": [
    "import random\n",
    "import pathlib\n",
    "import os\n",
    "import shutil\n",
    "import math"
   ]
  },
  {
   "cell_type": "code",
   "execution_count": 2,
   "metadata": {},
   "outputs": [
    {
     "name": "stdout",
     "output_type": "stream",
     "text": [
      "['black', 'clay', 'peat', 'red', 'sand']\n"
     ]
    }
   ],
   "source": [
    "# Specify the path of the directory you want to get the directory names from\n",
    "directory_path = \"Compressed\"\n",
    "\n",
    "# Use os.listdir() to get a list of all entries in the directory\n",
    "all_entries = os.listdir(directory_path)\n",
    "\n",
    "# Use a list comprehension to filter out only directories\n",
    "plants = [entry for entry in all_entries if os.path.isdir(os.path.join(directory_path, entry))]\n",
    "\n",
    "# Now 'directories' contains the names of all directories in the specified path\n",
    "print(plants)"
   ]
  },
  {
   "cell_type": "code",
   "execution_count": 4,
   "metadata": {},
   "outputs": [],
   "source": [
    "if not os.path.exists('./sorted/black'):\n",
    "    for plant in plants:\n",
    "        os.makedirs(os.path.join('./sorted/train/', plant))\n",
    "    for plant in plants:\n",
    "        os.makedirs(os.path.join('./sorted/test/', plant))\n",
    "    for plant in plants:\n",
    "        os.makedirs(os.path.join('./sorted/valid/', plant))\n",
    "else:\n",
    "    shutil.rmtree('./Sorted Dataset')\n",
    "\n",
    "    # for plant in plants:\n",
    "    #     os.makedirs(os.path.join('./plant/train/', plant))\n",
    "    # for plant in plants:\n",
    "    #     os.makedirs(os.path.join('./plant/test/', plant))\n",
    "    # for plant in plants:\n",
    "    #     os.makedirs(os.path.join('./plant/valid/', plant))\n",
    "    "
   ]
  },
  {
   "cell_type": "code",
   "execution_count": 8,
   "metadata": {},
   "outputs": [],
   "source": [
    "p=pathlib.Path('./Compressed')\n",
    "for plant in plants:\n",
    "    for c in random.sample(list(p.glob(os.path.join(plant,'*'))), math.floor(len(list(p.glob(os.path.join(plant,'*')))) * 0.87)):\n",
    "        shutil.move(c, os.path.join('sorted/train',plant))\n",
    "    for c in random.sample(list(p.glob(os.path.join(plant,'*'))), math.floor(len(list(p.glob(os.path.join(plant,'*')))) * 0.5)):\n",
    "        shutil.move(c, os.path.join('sorted/test',plant))\n",
    "    for c in random.sample(list(p.glob(os.path.join(plant,'*'))), math.floor(len(list(p.glob(os.path.join(plant,'*')))) * 1)):\n",
    "        shutil.move(c, os.path.join('sorted/valid',plant))\n",
    "    "
   ]
  }
 ],
 "metadata": {
  "kernelspec": {
   "display_name": "base",
   "language": "python",
   "name": "python3"
  },
  "language_info": {
   "codemirror_mode": {
    "name": "ipython",
    "version": 3
   },
   "file_extension": ".py",
   "mimetype": "text/x-python",
   "name": "python",
   "nbconvert_exporter": "python",
   "pygments_lexer": "ipython3",
   "version": "3.9.13"
  },
  "orig_nbformat": 4
 },
 "nbformat": 4,
 "nbformat_minor": 2
}
